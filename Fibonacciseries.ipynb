{
 "cells": [
  {
   "cell_type": "code",
   "execution_count": null,
   "id": "7e4cface",
   "metadata": {},
   "outputs": [],
   "source": [
    "first = 0\n",
    "second = 1\n",
    "sum = 0\n",
    "print(first)\n",
    "print(second)\n",
    "while (sum<50):\n",
    "    sum = first+second\n",
    "    if sum>50:\n",
    "        break\n",
    "    print (sum)\n",
    "    first = second\n",
    "    second = sum"
   ]
  },
  {
   "cell_type": "code",
   "execution_count": null,
   "id": "b50e4b7d",
   "metadata": {},
   "outputs": [],
   "source": []
  },
  {
   "cell_type": "code",
   "execution_count": null,
   "id": "e4290c60",
   "metadata": {},
   "outputs": [],
   "source": []
  },
  {
   "cell_type": "code",
   "execution_count": null,
   "id": "f7723091",
   "metadata": {},
   "outputs": [],
   "source": []
  }
 ],
 "metadata": {
  "kernelspec": {
   "display_name": "Python 3 (ipykernel)",
   "language": "python",
   "name": "python3"
  },
  "language_info": {
   "codemirror_mode": {
    "name": "ipython",
    "version": 3
   },
   "file_extension": ".py",
   "mimetype": "text/x-python",
   "name": "python",
   "nbconvert_exporter": "python",
   "pygments_lexer": "ipython3",
   "version": "3.10.0"
  }
 },
 "nbformat": 4,
 "nbformat_minor": 5
}
